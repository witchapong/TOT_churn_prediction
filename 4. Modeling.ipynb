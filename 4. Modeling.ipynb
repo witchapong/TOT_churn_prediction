{
 "cells": [
  {
   "cell_type": "code",
   "execution_count": 47,
   "metadata": {},
   "outputs": [],
   "source": [
    "import pandas as pd\n",
    "import numpy as np\n",
    "import datetime as dt\n",
    "import matplotlib.pyplot as plt\n",
    "from sklearn.externals import joblib\n",
    "from sklearn.ensemble import RandomForestClassifier\n",
    "from IPython.core.display import display\n",
    "pd.options.display.max_columns = 999\n",
    "from tqdm import tqdm_notebook\n",
    "from sklearn.metrics import classification_report, accuracy_score, roc_auc_score,precision_recall_curve,roc_curve,confusion_matrix"
   ]
  },
  {
   "cell_type": "code",
   "execution_count": 48,
   "metadata": {},
   "outputs": [],
   "source": [
    "# lst_dt = list( zip([2017]*6+[2018]*9,list(range(6,13))+list(range(1,10))))\n",
    "lst_dt = list(zip([2017]*12, list(range(1,13))))"
   ]
  },
  {
   "cell_type": "code",
   "execution_count": 49,
   "metadata": {},
   "outputs": [
    {
     "data": {
      "application/vnd.jupyter.widget-view+json": {
       "model_id": "dc683f590334421a8e115b53d9a5d4e7",
       "version_major": 2,
       "version_minor": 0
      },
      "text/plain": [
       "HBox(children=(IntProgress(value=0, max=11), HTML(value='')))"
      ]
     },
     "metadata": {},
     "output_type": "display_data"
    },
    {
     "name": "stdout",
     "output_type": "stream",
     "text": [
      "month: 1, year: 2017 is skipped...\n",
      "(204, 98)\n",
      "(199, 98)\n",
      "(779, 98)\n",
      "(3778, 98)\n",
      "(5311, 98)\n",
      "(5515, 98)\n",
      "(5475, 98)\n",
      "(5314, 98)\n",
      "(5268, 98)\n",
      "(5146, 98)\n",
      "\n"
     ]
    }
   ],
   "source": [
    "lst_df = []\n",
    "for asof_year,asof_month in tqdm_notebook(lst_dt[:-1]):\n",
    "    try:\n",
    "        df = pd.read_csv('../bin/monthly/df_feat_'+str(asof_year).zfill(4)+str(asof_month).zfill(2)+'.csv')\n",
    "#         print(df.shape)\n",
    "#         df = df.loc[df[\"('dt', 'amin')\"]<=8]\n",
    "        df = df.loc[df['PAYMENT-mean']>500]\n",
    "        print(df.shape)\n",
    "        lst_df.append(df)\n",
    "    except:\n",
    "        print(f'month: {asof_month}, year: {asof_year} is skipped...')"
   ]
  },
  {
   "cell_type": "code",
   "execution_count": 50,
   "metadata": {},
   "outputs": [],
   "source": [
    "df_train = pd.concat(lst_df).set_index('Unnamed: 0')"
   ]
  },
  {
   "cell_type": "code",
   "execution_count": 51,
   "metadata": {},
   "outputs": [
    {
     "data": {
      "application/vnd.jupyter.widget-view+json": {
       "model_id": "5b9d9144182c4e978d1eec0b666d1d97",
       "version_major": 2,
       "version_minor": 0
      },
      "text/plain": [
       "HBox(children=(IntProgress(value=0, max=1), HTML(value='')))"
      ]
     },
     "metadata": {},
     "output_type": "display_data"
    },
    {
     "name": "stdout",
     "output_type": "stream",
     "text": [
      "(5035, 98)\n",
      "\n"
     ]
    }
   ],
   "source": [
    "lst_df = []\n",
    "for asof_year,asof_month in tqdm_notebook(lst_dt[-1:]):\n",
    "    df = pd.read_csv('../bin/monthly/df_feat_'+str(asof_year).zfill(4)+str(asof_month).zfill(2)+'.csv')\n",
    "#     print(df.shape)\n",
    "#     df = df.loc[df[\"('dt', 'amin')\"]<=8]\n",
    "    df = df.loc[df['PAYMENT-mean']>500]\n",
    "    print(df.shape)\n",
    "    lst_df.append(df)\n",
    "df_test = pd.concat(lst_df).set_index('Unnamed: 0')"
   ]
  },
  {
   "cell_type": "code",
   "execution_count": 31,
   "metadata": {},
   "outputs": [],
   "source": [
    "X_train = df_train.drop('churn',axis=1).values\n",
    "y_train = df_train['churn'].values\n",
    "X_test = df_test.drop('churn',axis=1).values\n",
    "y_test = df_test['churn'].values"
   ]
  },
  {
   "cell_type": "code",
   "execution_count": 35,
   "metadata": {},
   "outputs": [],
   "source": [
    "rfc = RandomForestClassifier(n_estimators=50,criterion='entropy',min_samples_leaf=3,oob_score=True,n_jobs=-1)"
   ]
  },
  {
   "cell_type": "code",
   "execution_count": 41,
   "metadata": {},
   "outputs": [],
   "source": [
    "rfc.fit(X_train,y_train)\n",
    "y_pred = rfc.predict_proba(X_test)[:,1]"
   ]
  },
  {
   "cell_type": "code",
   "execution_count": 42,
   "metadata": {},
   "outputs": [
    {
     "data": {
      "image/png": "[encoded data removed]",
      "text/plain": [
       "<Figure size 432x288 with 1 Axes>"
      ]
     },
     "metadata": {
      "needs_background": "light"
     },
     "output_type": "display_data"
    }
   ],
   "source": [
    "pr,re,th = precision_recall_curve(y_test,y_pred)\n",
    "plt.title('Precision-Recall')\n",
    "plt.plot(re,pr)\n",
    "plt.xlabel('Recall')\n",
    "plt.ylabel('Precision')\n",
    "plt.show()"
   ]
  },
  {
   "cell_type": "code",
   "execution_count": 43,
   "metadata": {},
   "outputs": [
    {
     "data": {
      "image/png": "[encoded data removed]",
      "text/plain": [
       "<Figure size 432x288 with 1 Axes>"
      ]
     },
     "metadata": {
      "needs_background": "light"
     },
     "output_type": "display_data"
    }
   ],
   "source": [
    "pr,re,th = precision_recall_curve(y_test,y_pred)\n",
    "plt.title('Precision-Recall')\n",
    "plt.plot(th,pr[1:])\n",
    "plt.xlabel('th')\n",
    "plt.ylabel('Precision')\n",
    "plt.show()"
   ]
  },
  {
   "cell_type": "code",
   "execution_count": 46,
   "metadata": {},
   "outputs": [
    {
     "name": "stdout",
     "output_type": "stream",
     "text": [
      "              precision    recall  f1-score   support\n",
      "\n",
      "         0.0       0.96      0.94      0.95      4622\n",
      "         1.0       0.46      0.54      0.49       413\n",
      "\n",
      "   micro avg       0.91      0.91      0.91      5035\n",
      "   macro avg       0.71      0.74      0.72      5035\n",
      "weighted avg       0.92      0.91      0.91      5035\n",
      "\n"
     ]
    }
   ],
   "source": [
    "print(classification_report(y_test,y_pred>0.2))"
   ]
  },
  {
   "cell_type": "code",
   "execution_count": null,
   "metadata": {},
   "outputs": [],
   "source": []
  }
 ],
 "metadata": {
  "kernelspec": {
   "display_name": "Python 3",
   "language": "python",
   "name": "python3"
  },
  "language_info": {
   "codemirror_mode": {
    "name": "ipython",
    "version": 3
   },
   "file_extension": ".py",
   "mimetype": "text/x-python",
   "name": "python",
   "nbconvert_exporter": "python",
   "pygments_lexer": "ipython3",
   "version": "3.6.8"
  }
 },
 "nbformat": 4,
 "nbformat_minor": 2
}
