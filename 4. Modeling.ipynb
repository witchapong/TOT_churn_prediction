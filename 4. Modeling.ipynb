{
 "cells": [
  {
   "cell_type": "code",
   "execution_count": 2,
   "metadata": {},
   "outputs": [],
   "source": [
    "import pandas as pd\n",
    "import numpy as np\n",
    "import datetime as dt\n",
    "import matplotlib.pyplot as plt\n",
    "from sklearn.externals import joblib\n",
    "from sklearn.ensemble import RandomForestClassifier\n",
    "from IPython.core.display import display\n",
    "pd.options.display.max_columns = 999\n",
    "from tqdm import tqdm_notebook\n",
    "from sklearn.metrics import classification_report, accuracy_score, roc_auc_score,precision_recall_curve,roc_curve,confusion_matrix"
   ]
  },
  {
   "cell_type": "code",
   "execution_count": 3,
   "metadata": {},
   "outputs": [],
   "source": [
    "lst_dt = list(zip([2017]*12 + [2018]*12, list(range(1,13))*2))\n",
    "# lst_dt = list(zip([2017]*12, list(range(1,13))))"
   ]
  },
  {
   "cell_type": "code",
   "execution_count": 3,
   "metadata": {
    "scrolled": true
   },
   "outputs": [
    {
     "name": "stdout",
     "output_type": "stream",
     "text": [
      "The history saving thread hit an unexpected error (OperationalError('database or disk is full',)).History will not be written to the database.\n"
     ]
    },
    {
     "data": {
      "application/vnd.jupyter.widget-view+json": {
       "model_id": "1f0776a35d124496837938d567c48f28",
       "version_major": 2,
       "version_minor": 0
      },
      "text/plain": [
       "HBox(children=(IntProgress(value=0, max=21), HTML(value='')))"
      ]
     },
     "metadata": {},
     "output_type": "display_data"
    },
    {
     "name": "stdout",
     "output_type": "stream",
     "text": [
      "month: 1, year: 2017 is skipped...\n",
      "(5104, 105)\n",
      "(5158, 105)\n",
      "(14863, 105)\n",
      "(109358, 105)\n",
      "(125648, 105)\n",
      "(128274, 105)\n",
      "(128883, 105)\n",
      "(129097, 105)\n",
      "(128644, 105)\n",
      "(128480, 105)\n",
      "(127973, 105)\n",
      "(127304, 105)\n",
      "(127214, 105)\n",
      "(125115, 105)\n",
      "(125096, 105)\n",
      "(123455, 105)\n",
      "(122173, 105)\n",
      "(120893, 105)\n",
      "(119834, 105)\n",
      "(119120, 105)\n",
      "\n"
     ]
    },
    {
     "data": {
      "application/vnd.jupyter.widget-view+json": {
       "model_id": "645abbd7a7be4ec691e47f47bf40b2d2",
       "version_major": 2,
       "version_minor": 0
      },
      "text/plain": [
       "HBox(children=(IntProgress(value=0, max=3), HTML(value='')))"
      ]
     },
     "metadata": {},
     "output_type": "display_data"
    },
    {
     "name": "stdout",
     "output_type": "stream",
     "text": [
      "(117091, 105)\n",
      "(116032, 105)\n",
      "(114254, 105)\n",
      "\n"
     ]
    }
   ],
   "source": [
    "lst_df = []\n",
    "for asof_year,asof_month in tqdm_notebook(lst_dt[:-3]):\n",
    "    try:\n",
    "        df = pd.read_csv('../bin/monthly/df_feat_'+str(asof_year).zfill(4)+str(asof_month).zfill(2)+'.csv')\n",
    "#         print(df.shape)\n",
    "#         df = df.loc[df[\"('dt', 'amin')\"]<=8]\n",
    "        df = df.loc[df['PAYMENT-mean']>500]\n",
    "        print(df.shape)\n",
    "        lst_df.append(df)\n",
    "    except:\n",
    "        print(f'month: {asof_month}, year: {asof_year} is skipped...')\n",
    "\n",
    "df_train = pd.concat(lst_df).set_index('Unnamed: 0')\n",
    "\n",
    "lst_df = []\n",
    "for asof_year,asof_month in tqdm_notebook(lst_dt[-3:]):\n",
    "    df = pd.read_csv('../bin/monthly/df_feat_'+str(asof_year).zfill(4)+str(asof_month).zfill(2)+'.csv')\n",
    "#     print(df.shape)\n",
    "#     df = df.loc[df[\"('dt', 'amin')\"]<=8]\n",
    "    df = df.loc[df['PAYMENT-mean']>500]\n",
    "    print(df.shape)\n",
    "    lst_df.append(df)\n",
    "df_test = pd.concat(lst_df).set_index('Unnamed: 0')"
   ]
  },
  {
   "cell_type": "code",
   "execution_count": 4,
   "metadata": {},
   "outputs": [],
   "source": [
    "X_train = df_train.drop('churn',axis=1).values\n",
    "y_train = df_train['churn'].values\n",
    "X_test = df_test.drop('churn',axis=1).values\n",
    "y_test = df_test['churn'].values"
   ]
  },
  {
   "cell_type": "code",
   "execution_count": 5,
   "metadata": {},
   "outputs": [],
   "source": [
    "# RandomForestClassifier(n_estimators=100,criterion='entropy',min_samples_leaf=3,oob_score=True,n_jobs=-1) ---1st model\n",
    "rfc = RandomForestClassifier(n_estimators=100,criterion='entropy',min_samples_leaf=3,oob_score=True,n_jobs=-1)"
   ]
  },
  {
   "cell_type": "code",
   "execution_count": 6,
   "metadata": {},
   "outputs": [],
   "source": [
    "rfc.fit(X_train,y_train)\n",
    "y_pred = rfc.predict_proba(X_test)[:,1]"
   ]
  },
  {
   "cell_type": "code",
   "execution_count": 7,
   "metadata": {},
   "outputs": [
    {
     "data": {
      "image/png": "[encoded data removed]",
      "text/plain": [
       "<Figure size 432x288 with 1 Axes>"
      ]
     },
     "metadata": {
      "needs_background": "light"
     },
     "output_type": "display_data"
    }
   ],
   "source": [
    "pr,re,th = precision_recall_curve(y_test,y_pred)\n",
    "plt.title('Precision-Recall')\n",
    "plt.plot(re,pr)\n",
    "plt.xlabel('Recall')\n",
    "plt.ylabel('Precision')\n",
    "plt.show()"
   ]
  },
  {
   "cell_type": "code",
   "execution_count": 8,
   "metadata": {},
   "outputs": [
    {
     "data": {
      "image/png": "[encoded data removed]",
      "text/plain": [
       "<Figure size 432x288 with 1 Axes>"
      ]
     },
     "metadata": {
      "needs_background": "light"
     },
     "output_type": "display_data"
    }
   ],
   "source": [
    "pr,re,th = precision_recall_curve(y_test,y_pred)\n",
    "plt.title('Recall-Threshold')\n",
    "plt.plot(th,re[1:])\n",
    "plt.xlabel('thd')\n",
    "plt.ylabel('Recall')\n",
    "plt.show()"
   ]
  },
  {
   "cell_type": "code",
   "execution_count": 9,
   "metadata": {},
   "outputs": [
    {
     "name": "stdout",
     "output_type": "stream",
     "text": [
      "              precision    recall  f1-score   support\n",
      "\n",
      "         0.0       0.96      0.92      0.94    319099\n",
      "         1.0       0.37      0.56      0.44     28278\n",
      "\n",
      "   micro avg       0.89      0.89      0.89    347377\n",
      "   macro avg       0.66      0.74      0.69    347377\n",
      "weighted avg       0.91      0.89      0.90    347377\n",
      "\n"
     ]
    }
   ],
   "source": [
    "print(classification_report(y_test,y_pred>0.2))"
   ]
  },
  {
   "cell_type": "code",
   "execution_count": 10,
   "metadata": {},
   "outputs": [
    {
     "data": {
      "text/plain": [
       "['../out/rfc_1.pkl']"
      ]
     },
     "execution_count": 10,
     "metadata": {},
     "output_type": "execute_result"
    }
   ],
   "source": [
    "from sklearn.externals import joblib\n",
    "# Output a pickle file for the model\n",
    "joblib.dump(rfc, '../out/rfc_1.pkl')"
   ]
  },
  {
   "cell_type": "code",
   "execution_count": null,
   "metadata": {},
   "outputs": [],
   "source": []
  }
 ],
 "metadata": {
  "kernelspec": {
   "display_name": "Python 3",
   "language": "python",
   "name": "python3"
  },
  "language_info": {
   "codemirror_mode": {
    "name": "ipython",
    "version": 3
   },
   "file_extension": ".py",
   "mimetype": "text/x-python",
   "name": "python",
   "nbconvert_exporter": "python",
   "pygments_lexer": "ipython3",
   "version": "3.6.8"
  }
 },
 "nbformat": 4,
 "nbformat_minor": 2
}
